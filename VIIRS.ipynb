{
 "cells": [
  {
   "cell_type": "code",
   "execution_count": 4,
   "metadata": {},
   "outputs": [],
   "source": [
    "using JSON\n",
    "using CMR"
   ]
  },
  {
   "cell_type": "code",
   "execution_count": 5,
   "metadata": {},
   "outputs": [
    {
     "data": {
      "text/plain": [
       "\"2024-02-14\""
      ]
     },
     "metadata": {},
     "output_type": "display_data"
    }
   ],
   "source": [
    "product_name = \"VNP09GA\"\n",
    "collection = 2\n",
    "tile = \"h08v05\"\n",
    "start_date = \"2024-02-14\"\n",
    "end_date = \"2024-02-14\""
   ]
  },
  {
   "cell_type": "code",
   "execution_count": 6,
   "metadata": {},
   "outputs": [
    {
     "data": {
      "text/plain": [
       "\"C2631841556-LPCLOUD\""
      ]
     },
     "metadata": {},
     "output_type": "display_data"
    }
   ],
   "source": [
    "concept = get_CMR_product_concept_ID(product_name, collection)"
   ]
  },
  {
   "cell_type": "code",
   "execution_count": 7,
   "metadata": {},
   "outputs": [
    {
     "name": "stderr",
     "output_type": "stream",
     "text": [
      "┌ Info: CMR API query for concept ID \u001b[33mC2631841556-LPCLOUD\u001b[39m at tile \u001b[33mh08v05\u001b[39m from \u001b[34m2024-02-14\u001b[39m to \u001b[34m2024-02-14\u001b[39m with URL: \u001b[34;4mhttps://cmr.earthdata.nasa.gov/search/granules.json?concept_id=C2631841556-LPCLOUD&temporal=2024-02-14T00:00:00Z/2024-02-14T23:59:59Z&page_size=2000&producer_granule_id=*h08v05*&options[producer_granule_id][pattern]=true\u001b[39;24m\n",
      "└ @ CMR /Users/gregoryhalverson/Projects/CMR.jl/src/CMR.jl:258\n"
     ]
    },
    {
     "name": "stdout",
     "output_type": "stream",
     "text": [
      "{\n",
      "  \"feed\": {\n",
      "    \"entry\": [\n",
      "      {\n",
      "        \"original_format\": \"ECHO10\",\n",
      "        \"online_access_flag\": true,\n",
      "        \"data_center\": \"LPCLOUD\",\n",
      "        \"id\": \"G2868999494-LPCLOUD\",\n",
      "        \"updated\": \"2024-02-16T22:53:37.134Z\",\n",
      "        \"dataset_id\": \"VIIRS/NPP Surface Reflectance Daily L2G Global 1km and 500m SIN Grid V002\",\n",
      "        \"links\": [\n",
      "          {\n",
      "            \"hreflang\": \"en-US\",\n",
      "            \"rel\": \"http://esipfed.org/ns/fedsearch/1.1/data#\",\n",
      "            \"href\": \"https://data.lpdaac.earthdatacloud.nasa.gov/lp-prod-protected/VNP09GA.002/VNP09GA.A2024045.h08v05.002.2024046104455/VNP09GA.A2024045.h08v05.002.2024046104455.h5\",\n",
      "            \"title\": \"Download VNP09GA.A2024045.h08v05.002.2024046104455.h5\"\n",
      "          },\n",
      "          {\n",
      "            \"hreflang\": \"en-US\",\n",
      "            \"rel\": \"http://esipfed.org/ns/fedsearch/1.1/s3#\",\n",
      "            \"href\": \"s3://lp-prod-protected/VNP09GA.002/VNP09GA.A2024045.h08v05.002.2024046104455/VNP09GA.A2024045.h08v05.002.2024046104455.h5\",\n",
      "            \"title\": \"This link provides direct download access via S3 to the granule\"\n",
      "          },\n",
      "          {\n",
      "            \"hreflang\": \"en-US\",\n",
      "            \"rel\": \"http://esipfed.org/ns/fedsearch/1.1/documentation#\",\n",
      "            \"href\": \"https://doi.org/10.5067/VIIRS/VNP09GA.002\",\n",
      "            \"title\": \"The Landing Page for this file may be accessed directly from this link (DOI)\",\n",
      "            \"type\": \"text/html\"\n",
      "          },\n",
      "          {\n",
      "            \"hreflang\": \"en-US\",\n",
      "            \"rel\": \"http://esipfed.org/ns/fedsearch/1.1/service#\",\n",
      "            \"href\": \"https://opendap.earthdata.nasa.gov/collections/C2631841556-LPCLOUD/granules/VNP09GA.A2024045.h08v05.002.2024046104455\",\n",
      "            \"title\": \"OPeNDAP request URL (GET DATA : OPENDAP DATA)\"\n",
      "          },\n",
      "          {\n",
      "            \"hreflang\": \"en-US\",\n",
      "            \"rel\": \"http://esipfed.org/ns/fedsearch/1.1/metadata#\",\n",
      "            \"href\": \"https://data.lpdaac.earthdatacloud.nasa.gov/lp-prod-protected/VNP09GA.002/VNP09GA.A2024045.h08v05.002.2024046104455/VNP09GA.A2024045.h08v05.002.2024046104455.cmr.xml\",\n",
      "            \"title\": \"Download VNP09GA.A2024045.h08v05.002.2024046104455.cmr.xml (EXTENDED METADATA)\"\n",
      "          },\n",
      "          {\n",
      "            \"hreflang\": \"en-US\",\n",
      "            \"rel\": \"http://esipfed.org/ns/fedsearch/1.1/metadata#\",\n",
      "            \"href\": \"s3://lp-prod-protected/VNP09GA.002/VNP09GA.A2024045.h08v05.002.2024046104455/VNP09GA.A2024045.h08v05.002.2024046104455.cmr.xml\",\n",
      "            \"title\": \"This link provides direct download access via S3 to the granule (EXTENDED METADATA)\"\n",
      "          },\n",
      "          {\n",
      "            \"hreflang\": \"en-US\",\n",
      "            \"rel\": \"http://esipfed.org/ns/fedsearch/1.1/metadata#\",\n",
      "            \"href\": \"https://data.lpdaac.earthdatacloud.nasa.gov/lp-prod-protected/VNP09GA.002/VNP09GA.A2024045.h08v05.002.2024046104455/VNP09GA.A2024045.h08v05.002.2024046104455.h5.dmrpp\",\n",
      "            \"title\": \"Download VNP09GA.A2024045.h08v05.002.2024046104455.h5.dmrpp (VIEW RELATED INFORMATION)\"\n",
      "          },\n",
      "          {\n",
      "            \"hreflang\": \"en-US\",\n",
      "            \"rel\": \"http://esipfed.org/ns/fedsearch/1.1/metadata#\",\n",
      "            \"href\": \"s3://lp-prod-protected/VNP09GA.002/VNP09GA.A2024045.h08v05.002.2024046104455/VNP09GA.A2024045.h08v05.002.2024046104455.h5.dmrpp\",\n",
      "            \"title\": \"This link provides direct download access via S3 to the granule (VIEW RELATED INFORMATION)\"\n",
      "          },\n",
      "          {\n",
      "            \"hreflang\": \"en-US\",\n",
      "            \"rel\": \"http://esipfed.org/ns/fedsearch/1.1/metadata#\",\n",
      "            \"href\": \"https://data.lpdaac.earthdatacloud.nasa.gov/s3credentials\",\n",
      "            \"title\": \"api endpoint to retrieve temporary credentials valid for same-region direct s3 access (VIEW RELATED INFORMATION)\"\n",
      "          },\n",
      "          {\n",
      "            \"hreflang\": \"en-US\",\n",
      "            \"rel\": \"http://esipfed.org/ns/fedsearch/1.1/browse#\",\n",
      "            \"href\": \"https://data.lpdaac.earthdatacloud.nasa.gov/lp-prod-public/VNP09GA.002/VNP09GA.A2024045.h08v05.002.2024046104455/BROWSE.VNP09GA.A2024045.h08v05.002.2024046104455.1.jpg\",\n",
      "            \"title\": \"Download BROWSE.VNP09GA.A2024045.h08v05.002.2024046104455.1.jpg\"\n",
      "          },\n",
      "          {\n",
      "            \"hreflang\": \"en-US\",\n",
      "            \"rel\": \"http://esipfed.org/ns/fedsearch/1.1/browse#\",\n",
      "            \"href\": \"s3://lp-prod-public/VNP09GA.002/VNP09GA.A2024045.h08v05.002.2024046104455/BROWSE.VNP09GA.A2024045.h08v05.002.2024046104455.1.jpg\",\n",
      "            \"title\": \"This link provides direct download access via S3 to the granule\"\n",
      "          },\n",
      "          {\n",
      "            \"length\": \"97.9MB\",\n",
      "            \"hreflang\": \"en-US\",\n",
      "            \"inherited\": true,\n",
      "            \"rel\": \"http://esipfed.org/ns/fedsearch/1.1/data#\",\n",
      "            \"href\": \"https://search.earthdata.nasa.gov/search?q=C2631841556-LPCLOUD\"\n",
      "          },\n",
      "          {\n",
      "            \"hreflang\": \"en-US\",\n",
      "            \"inherited\": true,\n",
      "            \"rel\": \"http://esipfed.org/ns/fedsearch/1.1/documentation#\",\n",
      "            \"href\": \"https://landweb.modaps.eosdis.nasa.gov/cgi-bin/QS/new/index.cgi\"\n",
      "          },\n",
      "          {\n",
      "            \"hreflang\": \"en-US\",\n",
      "            \"inherited\": true,\n",
      "            \"rel\": \"http://esipfed.org/ns/fedsearch/1.1/metadata#\",\n",
      "            \"href\": \"https://doi.org/10.5067/VIIRS/VNP09GA.002\"\n",
      "          },\n",
      "          {\n",
      "            \"hreflang\": \"en-US\",\n",
      "            \"inherited\": true,\n",
      "            \"rel\": \"http://esipfed.org/ns/fedsearch/1.1/metadata#\",\n",
      "            \"href\": \"https://lpdaac.usgs.gov/\"\n",
      "          },\n",
      "          {\n",
      "            \"hreflang\": \"en-US\",\n",
      "            \"inherited\": true,\n",
      "            \"rel\": \"http://esipfed.org/ns/fedsearch/1.1/documentation#\",\n",
      "            \"href\": \"https://lpdaac.usgs.gov/documents/1657/VNP09_User_Guide_V2.pdf\"\n",
      "          },\n",
      "          {\n",
      "            \"hreflang\": \"en-US\",\n",
      "            \"inherited\": true,\n",
      "            \"rel\": \"http://esipfed.org/ns/fedsearch/1.1/documentation#\",\n",
      "            \"href\": \"https://lpdaac.usgs.gov/documents/122/VNP09_ATBD.pdf\"\n",
      "          },\n",
      "          {\n",
      "            \"hreflang\": \"en-US\",\n",
      "            \"inherited\": true,\n",
      "            \"rel\": \"http://esipfed.org/ns/fedsearch/1.1/documentation#\",\n",
      "            \"href\": \"https://viirsland.gsfc.nasa.gov/Val/LSR_Val.html\"\n",
      "          },\n",
      "          {\n",
      "            \"hreflang\": \"en-US\",\n",
      "            \"inherited\": true,\n",
      "            \"rel\": \"http://esipfed.org/ns/fedsearch/1.1/documentation#\",\n",
      "            \"href\": \"https://viirsland.gsfc.nasa.gov/Val_overview.html\"\n",
      "          },\n",
      "          {\n",
      "            \"hreflang\": \"en-US\",\n",
      "            \"inherited\": true,\n",
      "            \"rel\": \"http://esipfed.org/ns/fedsearch/1.1/data#\",\n",
      "            \"href\": \"https://appeears.earthdatacloud.nasa.gov/\"\n",
      "          }\n",
      "        ],\n",
      "        \"time_end\": \"2024-02-14T23:59:59.000Z\",\n",
      "        \"browse_flag\": true,\n",
      "        \"coordinate_system\": \"GEODETIC\",\n",
      "        \"time_start\": \"2024-02-14T00:00:00.000Z\",\n",
      "        \"producer_granule_id\": \"VNP09GA.A2024045.h08v05.002.2024046104455\",\n",
      "        \"granule_size\": \"83.3341684341431\",\n",
      "        \"day_night_flag\": \"BOTH\",\n",
      "        \"polygons\": [\n",
      "          [\n",
      "            \"29.8308 -115.3696 29.9063 -103.6998 40.0852 -117.3606 40 -130.5407 29.8308 -115.3696\"\n",
      "          ]\n",
      "        ],\n",
      "        \"title\": \"VNP09GA.A2024045.h08v05.002.2024046104455\",\n",
      "        \"collection_concept_id\": \"C2631841556-LPCLOUD\"\n",
      "      }\n",
      "    ],\n",
      "    \"id\": \"https://cmr.earthdata.nasa.gov:443/search/granules.json?concept_id=C2631841556-LPCLOUD&temporal=2024-02-14T00:00:00Z/2024-02-14T23:59:59Z&page_size=2000&producer_granule_id=*h08v05*&options[producer_granule_id][pattern]=true\",\n",
      "    \"title\": \"ECHO granule metadata\",\n",
      "    \"updated\": \"2024-05-25T16:54:29.597Z\"\n",
      "  }\n",
      "}\n"
     ]
    }
   ],
   "source": [
    "results = CMR_granule_search_JSON(concept, tile, start_date, end_date)\n",
    "JSON.print(results, 2)"
   ]
  },
  {
   "cell_type": "code",
   "execution_count": null,
   "metadata": {},
   "outputs": [],
   "source": []
  }
 ],
 "metadata": {
  "kernelspec": {
   "display_name": "Julia 1.10.1",
   "language": "julia",
   "name": "julia-1.10"
  },
  "language_info": {
   "file_extension": ".jl",
   "mimetype": "application/julia",
   "name": "julia",
   "version": "1.10.1"
  }
 },
 "nbformat": 4,
 "nbformat_minor": 2
}
