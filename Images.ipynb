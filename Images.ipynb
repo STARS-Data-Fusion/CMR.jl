{
 "cells": [
  {
   "cell_type": "code",
   "execution_count": 1,
   "metadata": {},
   "outputs": [],
   "source": [
    "using Images\n",
    "using URIs\n",
    "using CMR"
   ]
  },
  {
   "cell_type": "code",
   "execution_count": 2,
   "metadata": {},
   "outputs": [
    {
     "data": {
      "text/plain": [
       "URI(\"https://picsum.photos/200/300.jpg\")"
      ]
     },
     "metadata": {},
     "output_type": "display_data"
    }
   ],
   "source": [
    "URL = URI(\"https://picsum.photos/200/300.jpg\")"
   ]
  },
  {
   "cell_type": "code",
   "execution_count": 3,
   "metadata": {},
   "outputs": [
    {
     "ename": "MethodError",
     "evalue": "MethodError: no method matching var\"#curl_binary#1\"(::Nothing, ::NetRCFile, ::typeof(curl_binary), ::URI)\n\nClosest candidates are:\n  var\"#curl_binary#1\"(!Matched::CookieFile, ::NetRCFile, ::typeof(curl_binary), ::URI)\n   @ CMR ~/Projects/CMR.jl/src/AuthenticatedCurl.jl:42\n",
     "output_type": "error",
     "traceback": [
      "MethodError: no method matching var\"#curl_binary#1\"(::Nothing, ::NetRCFile, ::typeof(curl_binary), ::URI)\n",
      "\n",
      "Closest candidates are:\n",
      "  var\"#curl_binary#1\"(!Matched::CookieFile, ::NetRCFile, ::typeof(curl_binary), ::URI)\n",
      "   @ CMR ~/Projects/CMR.jl/src/AuthenticatedCurl.jl:42\n",
      "\n",
      "\n",
      "Stacktrace:\n",
      " [1] curl_binary(URL::URI)\n",
      "   @ CMR.AuthenticatedCurl ~/Projects/CMR.jl/src/AuthenticatedCurl.jl:42\n",
      " [2] top-level scope\n",
      "   @ ~/Projects/CMR.jl/Images.ipynb:1"
     ]
    }
   ],
   "source": [
    "raw = curl_binary(URL)\n"
   ]
  },
  {
   "cell_type": "code",
   "execution_count": null,
   "metadata": {},
   "outputs": [],
   "source": []
  }
 ],
 "metadata": {
  "kernelspec": {
   "display_name": "Julia 1.10.1",
   "language": "julia",
   "name": "julia-1.10"
  },
  "language_info": {
   "file_extension": ".jl",
   "mimetype": "application/julia",
   "name": "julia",
   "version": "1.10.1"
  }
 },
 "nbformat": 4,
 "nbformat_minor": 2
}
