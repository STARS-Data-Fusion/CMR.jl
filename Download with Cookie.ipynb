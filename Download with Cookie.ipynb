{
 "cells": [
  {
   "cell_type": "code",
   "execution_count": 1,
   "metadata": {},
   "outputs": [
    {
     "data": {
      "text/plain": [
       "download_with_cookie"
      ]
     },
     "metadata": {},
     "output_type": "display_data"
    }
   ],
   "source": [
    "using Downloads\n",
    "\n",
    "\"\"\"\n",
    "    COOKIE_FILENAME\n",
    "\n",
    "A constant that holds the path to the cookie file.\n",
    "\"\"\"\n",
    "COOKIE_FILENAME = expanduser(\"~/.urs_cookies\")\n",
    "\n",
    "\"\"\"\n",
    "    download_with_cookie(URL::String; cookie_filename::String = COOKIE_FILENAME)\n",
    "\n",
    "Sends a GET request to the specified URL and returns the response as a string.\n",
    "\n",
    "# Arguments\n",
    "- `URL::String`: The URL to send the GET request to.\n",
    "- `cookie_filename::String`: The path to the cookie file. Defaults to `COOKIE_FILENAME`.\n",
    "\n",
    "# Returns\n",
    "- `::String`: The response from the server.\n",
    "\n",
    "# Throws\n",
    "- `IOError`: If the HTTP status code is not 200.\n",
    "\"\"\"\n",
    "function download_with_cookie(URL::String; cookie_filename::String = COOKIE_FILENAME)::String\n",
    "    # Set the cookie file\n",
    "    cookie_option = Downloads.CurlOption(CURLOPT_COOKIEFILE, cookie_filename)\n",
    "\n",
    "    # Set the cookie jar\n",
    "    jar_option = Downloads.CurlOption(CURLOPT_COOKIEJAR, cookie_filename)\n",
    "\n",
    "    # Follow redirects\n",
    "    redirect_option = Downloads.CurlOption(CURLOPT_FOLLOWLOCATION, 1)\n",
    "\n",
    "    # Enable Netrc\n",
    "    netrc_option = Downloads.CurlOption(CURLOPT_NETRC, CURL_NETRC_OPTIONAL)\n",
    "\n",
    "    # execute the query\n",
    "    response = Downloads.request(URL, [cookie_option, jar_option, redirect_option, netrc_option])\n",
    "\n",
    "    # Check if the HTTP status code is 200\n",
    "    if response.status != 200\n",
    "        throw(IOError(\"status $(response.status) for URL: $URL\"))\n",
    "    end\n",
    "\n",
    "    # return the response as a string\n",
    "    return String(response.body)\n",
    "end\n",
    "\n"
   ]
  },
  {
   "cell_type": "code",
   "execution_count": 3,
   "metadata": {},
   "outputs": [
    {
     "data": {
      "text/plain": [
       "\"https://data.lpdaac.earthdatacloud.nasa.gov/lp-prod-protected/VNP09GA.002/VNP09GA.A2024045.h08v05.002.2024046104455/VNP09GA.A2024045.h08v05.002.2024046104455.cmr.xml\""
      ]
     },
     "metadata": {},
     "output_type": "display_data"
    }
   ],
   "source": [
    "URL = \"https://data.lpdaac.earthdatacloud.nasa.gov/lp-prod-protected/VNP09GA.002/VNP09GA.A2024045.h08v05.002.2024046104455/VNP09GA.A2024045.h08v05.002.2024046104455.cmr.xml\""
   ]
  },
  {
   "cell_type": "code",
   "execution_count": 4,
   "metadata": {},
   "outputs": [
    {
     "ename": "UndefVarError",
     "evalue": "UndefVarError: CurlOption not defined",
     "output_type": "error",
     "traceback": [
      "UndefVarError: CurlOption not defined\n",
      "\n",
      "Stacktrace:\n",
      " [1] download_with_cookie(URL::String; cookie_filename::String)\n",
      "   @ Main ~/Projects/CMR.jl/Download with Cookie.ipynb:27\n",
      " [2] download_with_cookie(URL::String)\n",
      "   @ Main ~/Projects/CMR.jl/Download with Cookie.ipynb:25\n",
      " [3] top-level scope\n",
      "   @ ~/Projects/CMR.jl/Download with Cookie.ipynb:1"
     ]
    }
   ],
   "source": [
    "download_with_cookie(URL)"
   ]
  }
 ],
 "metadata": {
  "kernelspec": {
   "display_name": "Julia 1.8.5",
   "language": "julia",
   "name": "julia-1.8"
  },
  "language_info": {
   "file_extension": ".jl",
   "mimetype": "application/julia",
   "name": "julia",
   "version": "1.8.5"
  }
 },
 "nbformat": 4,
 "nbformat_minor": 2
}
